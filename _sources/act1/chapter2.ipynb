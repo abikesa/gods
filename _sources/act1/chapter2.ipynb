{
 "cells": [
  {
   "cell_type": "markdown",
   "metadata": {},
   "source": [
    "(ecosystem)=\n",
    "# Ecosystem \n",
    "\n",
    "King Lear is a tragedy of ecological cost functions and likelihoods gone awry. Lear begins with a fixed parameter—his kingdom—seemingly immutable, governed by the laws of inheritance and political structure. Yet, instead of adhering to the natural law of primogeniture, or even a structured division based on ability -- a [strategic bequest motive](https://scholar.harvard.edu/files/shleifer/files/strat_bequest.pdf), he demands data—performative declarations of love—as the metric by which his land will be apportioned. This is a grotesque inversion of Bayesian reasoning. Instead of updating his priors based on reliable data, he discards the immutable and allows rhetoric, a noisy and manipulable variable, to dictate his decision. The cost function here is immediate: the kingdom fractures, alliances form under false pretenses, and the entire system destabilizes, leading to chaos. \n",
    "\n",
    "> *Thou, Nature, art my goddess; to thy law\n",
    "My services are bound.*     \n",
    "-- [Edmund](https://www.gutenberg.org/files/1532/1532-h/1532-h.htm#sceneI_18.2)\n",
    "\n",
    "This miscalculation is not simply a matter of human folly; it is an error at the level of first principles. The kingdom, like the spin of a roulette wheel or the gravitational constant, operates on fixed laws. Its people rely on stable governance, its borders demand defense, and its resources must be managed with continuity. Lear's decision introduces a probabilistic chaos into a system that should remain deterministic. In demanding that his daughters \"prove\" their love in exchange for territory, he reweights the parameters in a way that is adversarial rather than iterative. Instead of an equilibrium in which the most capable ruler emerges, he forces a situation in which those most skilled in deception (Goneril and Regan) optimize for reward, while the honest variable (Cordelia) is discarded as an outlier. \n",
    "\n",
    "<div style=\"display: flex; justify-content: center;\">\n",
    "    <iframe width=\"80%\" height=\"400px\" src=\"https://www.youtube.com/embed/2iAhaYLr9p4\" title=\"YouTube video player\" frameborder=\"0\" allow=\"accelerometer; autoplay; clipboard-write; encrypted-media; gyroscope; picture-in-picture\" allowfullscreen></iframe>\n",
    "</div>\n",
    "\n",
    "```{figure} https://upload.wikimedia.org/wikipedia/commons/7/72/Prometheus_and_Atlas%2C_Laconian_black-figure_kylix%2C_by_the_Arkesilas_Painter%2C_560-550_BC%2C_inv._16592_-_Museo_Gregoriano_Etrusco_-_Vatican_Museums_-_DSC01069.jpg\n",
    "---\n",
    "width: 1%\n",
    "name: BlackRock CEO Larry Fink\n",
    "---\n",
    "_Isaiah 2:2-4 is the best quoted & also misunderstood article on the conditions of social harmony. Putnams discomforts with the data tells us that he was surprised by what the UN knew half a century earlier and what our biblical prophet articulated several millenia ago_. Putnam published his data set from this study in 2001 and subsequently published the full paper in 2007. Putnam has been criticized for the lag between his initial study and his publication of his article. In 2006, Putnam was quoted in the Financial Times as saying he had delayed publishing the article until he could \"develop proposals to compensate for the negative effects of diversity\" (quote from John Lloyd of Financial Times). In 2007, writing in City Journal, John Leo questioned whether this suppression of publication was ethical behavior for a scholar, noting that \"Academics aren't supposed to withhold negative data until they can suggest antidotes to their findings.\" On the other hand, Putnam did release the data in 2001 and publicized this fact. Source: [Wikipedia](https://en.wikipedia.org/wiki/Robert_D._Putnam#Diversity_and_trust_within_communities)\n",
    "```\n",
    "\n",
    "\n",
    "This is where the neural network structure comes in. The first layer—**World**—represents the immutable reality: electro, magnetic, pulse, cost, trial, and error. Lear ignores this layer entirely. He treats his kingdom as if it exists in the **Mode** layer, where reflexivity reigns, as though his declaration itself can reshape reality. But the **Agent** layer reveals the true cost. Once the kingdom is divided, the system is thrown into a loop of ascending and descending dynamics—Lear, once at the peak, descends into madness, while the new rulers jockey for position, ascending at his expense. The sympathetic-empathetic-parasympathetic triad of the **Space** layer is obliterated. Lear assumes his daughters will respond with empathy, but they operate in the sympathetic (power-seeking) mode instead. Gloucester and Kent attempt parasympathetic interventions—loyalty, care—but by then, the model has locked into an adversarial cycle.\n",
    "\n",
    "Finally, **Time** asserts itself, and it is here that tragedy fully manifests. Lear operates as if he has control over the hardcoded layer, as if his decree fixes the future. But reality unfolds posteriori, through likelihood, meaning, and ultimately, a brute force confrontation with a priori forces—storm, betrayal, war. The tragedy of *King Lear* is that by ignoring ecological cost functions, by mistaking a fixed reality for a malleable one, Lear rewires the system in a way that ensures destruction. What should have been a static and stable inheritance collapses into a Bayesian nightmare where every new data point—deception, rebellion, madness—further reweights the probability of disaster. And disaster arrives, as it must, when the likelihood function is fundamentally broken.\n",
    "\n",
    "\n",
    "\n",
    "\n",
    "\n",
    "\n"
   ]
  },
  {
   "cell_type": "code",
   "execution_count": null,
   "metadata": {
    "tags": [
     "hide-input"
    ]
   },
   "outputs": [],
   "source": [
    "import numpy as np\n",
    "import matplotlib.pyplot as plt\n",
    "import networkx as nx\n",
    "\n",
    "# Define the neural network fractal\n",
    "def define_layers():\n",
    "    return {\n",
    "        'World': ['Electro', 'Magnetic', 'Pulse', 'Cost', 'Trial', 'Error', ], # Veni; 95/5\n",
    "        'Mode': ['Reflexive'], # Vidi; 80/20\n",
    "        'Agent': ['Ascending', 'Descending'], # Vici; Veni; 51/49\n",
    "        'Space': ['Red Queen', 'White Pawn', 'Imperial Queen'], # Vidi; 20/80\n",
    "        'Time': ['Hardcoded', 'Posteriori',  'Meaning', 'Likelihood', 'A Priori'] # Vici; 5/95\n",
    "    }\n",
    "\n",
    "# Assign colors to nodes\n",
    "def assign_colors():\n",
    "    color_map = {\n",
    "        'yellow': ['Reflexive'],  \n",
    "        'paleturquoise': ['Error', 'Descending', 'Imperial Queen', 'A Priori'],  \n",
    "        'lightgreen': ['Trial', 'White Pawn', 'Likelihood', 'Meaning', 'Posteriori'],  \n",
    "        'lightsalmon': [\n",
    "            'Pulse', 'Cost', 'Ascending',  \n",
    "            'Red Queen', 'Hardcoded'\n",
    "        ],\n",
    "    }\n",
    "    return {node: color for color, nodes in color_map.items() for node in nodes}\n",
    "\n",
    "# Calculate positions for nodes\n",
    "def calculate_positions(layer, x_offset):\n",
    "    y_positions = np.linspace(-len(layer) / 2, len(layer) / 2, len(layer))\n",
    "    return [(x_offset, y) for y in y_positions]\n",
    "\n",
    "# Create and visualize the neural network graph\n",
    "def visualize_nn():\n",
    "    layers = define_layers()\n",
    "    colors = assign_colors()\n",
    "    G = nx.DiGraph()\n",
    "    pos = {}\n",
    "    node_colors = []\n",
    "\n",
    "    # Add nodes and assign positions\n",
    "    for i, (layer_name, nodes) in enumerate(layers.items()):\n",
    "        positions = calculate_positions(nodes, x_offset=i * 2)\n",
    "        for node, position in zip(nodes, positions):\n",
    "            G.add_node(node, layer=layer_name)\n",
    "            pos[node] = position\n",
    "            node_colors.append(colors.get(node, 'lightgray'))   \n",
    "\n",
    "    # Add edges (automated for consecutive layers)\n",
    "    layer_names = list(layers.keys())\n",
    "    for i in range(len(layer_names) - 1):\n",
    "        source_layer, target_layer = layer_names[i], layer_names[i + 1]\n",
    "        for source in layers[source_layer]:\n",
    "            for target in layers[target_layer]:\n",
    "                G.add_edge(source, target)\n",
    "\n",
    "    # Draw the graph\n",
    "    plt.figure(figsize=(12, 8))\n",
    "    nx.draw(\n",
    "        G, pos, with_labels=True, node_color=node_colors, edge_color='gray',\n",
    "        node_size=3000, font_size=9, connectionstyle=\"arc3,rad=0.2\"\n",
    "    )\n",
    "    plt.title(\"Ecological Cost Function\", fontsize=15)\n",
    "    plt.show()\n",
    "\n",
    "# Run the visualization\n",
    "visualize_nn()"
   ]
  },
  {
   "cell_type": "markdown",
   "metadata": {},
   "source": [
    "```{figure} ../figures/blanche.*\n",
    "---\n",
    "width: 1\n",
    "height: 1\n",
    "---\n",
    "So we have a banking cartel, private ledgers, balancing payments, network of banks, and satisfied customer. The usurper is a public infrastructure, with open ledgers, digital trails, block-chain network, and liberated customer\n",
    "```\n",
    "\n",
    "\n"
   ]
  }
 ],
 "metadata": {
  "kernelspec": {
   "display_name": "myenv",
   "language": "python",
   "name": "python3"
  },
  "language_info": {
   "codemirror_mode": {
    "name": "ipython",
    "version": 3
   },
   "file_extension": ".py",
   "mimetype": "text/x-python",
   "name": "python",
   "nbconvert_exporter": "python",
   "pygments_lexer": "ipython3",
   "version": "3.12.4"
  },
  "widgets": {
   "application/vnd.jupyter.widget-state+json": {
    "state": {},
    "version_major": 2,
    "version_minor": 0
   }
  }
 },
 "nbformat": 4,
 "nbformat_minor": 4
}
